{
 "cells": [
  {
   "attachments": {},
   "cell_type": "markdown",
   "metadata": {},
   "source": [
    "### These are simulations to show cases when using an unpropriate tests for goup comparision leads to wrong results (regection or acceptance of the null hypothesis)\n"
   ]
  },
  {
   "cell_type": "code",
   "execution_count": 7,
   "metadata": {},
   "outputs": [
    {
     "name": "stdout",
     "output_type": "stream",
     "text": [
      "One-way ANOVA p-value: 0.024392771017232986\n",
      "Welch's ANOVA p-value: 0.07772458228359289\n"
     ]
    },
    {
     "name": "stderr",
     "output_type": "stream",
     "text": [
      "/tmp/ipykernel_845400/2948503213.py:18: FutureWarning: The frame.append method is deprecated and will be removed from pandas in a future version. Use pandas.concat instead.\n",
      "  df1 = df1.append(df2)\n"
     ]
    }
   ],
   "source": [
    "# two normal distributions but testing differences bewteen them with with and without assumption of equal variance\n",
    "\n",
    "\n",
    "import numpy as np\n",
    "import pandas as pd\n",
    "import pingouin as pg\n",
    "from scipy import stats\n",
    "\n",
    "# Generate sample data\n",
    "np.random.seed(0)\n",
    "\n",
    "group1 = np.random.normal(loc=10, scale=2, size=60)\n",
    "group2 = np.random.normal(loc=12.5, scale=5, size=30)\n",
    "\n",
    "# Perform one-way ANOVA\n",
    "fvalue, pvalue_anova = stats.f_oneway(group1, group2)\n",
    "print('One-way ANOVA p-value:', pvalue_anova)\n",
    "\n",
    "df1 = pd.DataFrame({'group': group1, \"values\" : \"group1\"})\n",
    "df2 = pd.DataFrame({'group': group2, \"values\" : \"group2\"})\n",
    "df1 = df1.append(df2)\n",
    "\n",
    "# Perform Welch's t-test\n",
    "pvalue_welch = pg.welch_anova(df1, dv=\"group\", between=\"values\").loc[0, 'p-unc']\n",
    "\n",
    "\n",
    "# tvalue, pvalue_welch = stats.ttest_ind(group1, group2, equal_var=False)\n",
    "print('Welch\\'s ANOVA p-value:', pvalue_welch)\n",
    "\n"
   ]
  }
 ],
 "metadata": {
  "kernelspec": {
   "display_name": "analytics",
   "language": "python",
   "name": "python3"
  },
  "language_info": {
   "codemirror_mode": {
    "name": "ipython",
    "version": 3
   },
   "file_extension": ".py",
   "mimetype": "text/x-python",
   "name": "python",
   "nbconvert_exporter": "python",
   "pygments_lexer": "ipython3",
   "version": "3.8.16"
  },
  "orig_nbformat": 4
 },
 "nbformat": 4,
 "nbformat_minor": 2
}
