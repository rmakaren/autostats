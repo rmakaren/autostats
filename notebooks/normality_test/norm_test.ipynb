{
 "cells": [
  {
   "attachments": {},
   "cell_type": "markdown",
   "metadata": {},
   "source": [
    "### These are simulations to test statistical tests for normality (Shapiro-Wilk and Kolmogorov–Smirnov tests) for the following conditions and their combinations:\n",
    "\n",
    "1. Various distributions: normal distribution and not-normal distribution (exponentional, poisson etc.)\n",
    "2. Various size of data (10, 100, 1000, 5000, 20000 samples)\n",
    "3. Sensitivity to outliers\n",
    "\n",
    "\n",
    "The goal is to benchmark tests to see if tests provide the expected results"
   ]
  },
  {
   "cell_type": "code",
   "execution_count": 32,
   "metadata": {},
   "outputs": [
    {
     "name": "stdout",
     "output_type": "stream",
     "text": [
      "ShapiroResult(statistic=0.8641277551651001, pvalue=0.0853390023112297)\n"
     ]
    },
    {
     "data": {
      "image/png": "[encoded data removed]",
      "text/plain": [
       "<Figure size 640x480 with 1 Axes>"
      ]
     },
     "metadata": {},
     "output_type": "display_data"
    }
   ],
   "source": [
    "import numpy as np\n",
    "import matplotlib.pyplot as plt\n",
    "from scipy import stats\n",
    "\n",
    "\n",
    "# Set the parameters for the exponential distribution\n",
    "lam = 0.5  # rate parameter\n",
    "n = 10  # number of samples\n",
    "\n",
    "# Generate samples from the exponential distribution\n",
    "exp_dist = np.random.exponential(scale=1/lam, size=n)\n",
    "norm_dist = np.random.normal(0, 1, 10)\n",
    "poisson_dist = np.random.poisson(5, 10)\n",
    "\n",
    "print(stats.shapiro(poisson_dist))\n",
    "\n",
    "# Plot a histogram of the samples\n",
    "plt.hist(poisson_dist, bins=50, density=True, alpha=0.7, label='Histogram')\n",
    "\n",
    "# Plot the probability density function of the exponential distribution\n",
    "t = np.linspace(0, 10, 100)\n",
    "pdf = lam * np.exp(-lam * t)\n",
    "plt.plot(t, pdf, 'r', label='PDF')\n",
    "\n",
    "# Add labels and legend to the plot\n",
    "plt.xlabel('Data')\n",
    "plt.ylabel('Density')\n",
    "plt.title('Exponential Distribution')\n",
    "plt.legend()\n",
    "\n",
    "# Show the plot\n",
    "plt.show()\n",
    "\n"
   ]
  },
  {
   "cell_type": "code",
   "execution_count": 52,
   "metadata": {},
   "outputs": [
    {
     "name": "stderr",
     "output_type": "stream",
     "text": [
      "/home/rostyslav/anaconda3/envs/analytics/lib/python3.8/site-packages/scipy/stats/_morestats.py:1816: UserWarning: p-value may not be accurate for N > 5000.\n",
      "  warnings.warn(\"p-value may not be accurate for N > 5000.\")\n"
     ]
    },
    {
     "data": {
      "text/plain": [
       "n10       0.51\n",
       "n100      1.00\n",
       "n1000     1.00\n",
       "n5000     1.00\n",
       "n20000    1.00\n",
       "dtype: float64"
      ]
     },
     "execution_count": 52,
     "metadata": {},
     "output_type": "execute_result"
    }
   ],
   "source": [
    "import pandas as pd\n",
    "import numpy as np\n",
    "from scipy.stats import shapiro\n",
    "\n",
    "\n",
    "distributions = []\n",
    "\n",
    "for _ in range(100):\n",
    "    tmp_dist =[shapiro(np.random.exponential(scale=1/lam, size=10))[1],\n",
    "                shapiro(np.random.exponential(scale=1/lam, size=100))[1],\n",
    "                shapiro(np.random.exponential(scale=1/lam, size=1000))[1],\n",
    "                shapiro(np.random.exponential(scale=1/lam, size=5000))[1],\n",
    "                shapiro(np.random.exponential(scale=1/lam, size=20000))[1]]\n",
    "    distributions.append(tmp_dist)\n",
    "\n",
    "df = pd.DataFrame(distributions, columns = ['n10','n100','n1000', 'n5000', 'n20000'])\n",
    "\n",
    "df[df < 0.05].count()/100\n",
    "\n",
    "# # Plot a histogram of the samples\n",
    "# plt.hist(df[\"n100\"], bins=50, density=True, alpha=0.7, label=f'p-value significant {df[\"n100\"][df[\"n100\"] < 0.05].count()/100} %')\n",
    "\n",
    "# # Plot the probability density function of the exponential distribution\n",
    "\n",
    "# # Add labels and legend to the plot\n",
    "# plt.xlabel('Data')\n",
    "# plt.ylabel('Density')\n",
    "# plt.title('P-value Distribution')\n",
    "# plt.legend()\n",
    "\n",
    "# # Show the plot\n",
    "# plt.show()\n"
   ]
  },
  {
   "cell_type": "code",
   "execution_count": 39,
   "metadata": {},
   "outputs": [
    {
     "data": {
      "text/plain": [
       "0     7.888321e-04\n",
       "1     2.178464e-08\n",
       "2     4.273496e-05\n",
       "3     3.383924e-03\n",
       "4     4.011845e-04\n",
       "          ...     \n",
       "95    1.613016e-04\n",
       "96    1.642262e-04\n",
       "97    2.438319e-03\n",
       "98    1.243104e-05\n",
       "99    5.888577e-03\n",
       "Name: n10, Length: 100, dtype: float64"
      ]
     },
     "execution_count": 39,
     "metadata": {},
     "output_type": "execute_result"
    }
   ],
   "source": [
    "df[\"n10\"]"
   ]
  },
  {
   "cell_type": "code",
   "execution_count": 34,
   "metadata": {},
   "outputs": [
    {
     "name": "stderr",
     "output_type": "stream",
     "text": [
      "/home/rostyslav/anaconda3/envs/analytics/lib/python3.8/site-packages/scipy/stats/_morestats.py:1816: UserWarning: p-value may not be accurate for N > 5000.\n",
      "  warnings.warn(\"p-value may not be accurate for N > 5000.\")\n"
     ]
    },
    {
     "data": {
      "text/plain": [
       "n10       0.76\n",
       "n100      0.03\n",
       "n1000     0.24\n",
       "n5000     0.73\n",
       "n20000    0.94\n",
       "dtype: float64"
      ]
     },
     "execution_count": 34,
     "metadata": {},
     "output_type": "execute_result"
    }
   ],
   "source": [
    "import pandas as pd\n",
    "import numpy as np\n",
    "\n",
    "distributions = []\n",
    "\n",
    "for _ in range(100):\n",
    "    tmp_dist =[shapiro(np.concatenate((np.random.normal(0, 1, 10), [5, 1, 3, 1, 2])))[1],\n",
    "                shapiro(np.concatenate((np.random.normal(0, 1, 100), [5, 1, 3, 1, 2])))[1],\n",
    "                shapiro(np.concatenate((np.random.normal(0, 1, 1000), [5, 1, 3, 1, 2])))[1],\n",
    "                shapiro(np.concatenate((np.random.normal(0, 1, 5000), [5, 1, 3, 1, 2])))[1],\n",
    "                shapiro(np.concatenate((np.random.normal(0, 1, 20000), [5, 1, 3, 1, 2])))[1]]\n",
    "    distributions.append(tmp_dist)\n",
    "\n",
    "df = pd.DataFrame(distributions, columns = ['n10','n100','n1000', 'n5000', 'n20000'])\n",
    "\n",
    "df[df > 0.05].count()/100"
   ]
  },
  {
   "cell_type": "code",
   "execution_count": 35,
   "metadata": {},
   "outputs": [
    {
     "data": {
      "text/plain": [
       "n10       0.59\n",
       "n100      0.90\n",
       "n1000     0.94\n",
       "n5000     0.95\n",
       "n20000    0.94\n",
       "dtype: float64"
      ]
     },
     "execution_count": 35,
     "metadata": {},
     "output_type": "execute_result"
    }
   ],
   "source": [
    "import pandas as pd\n",
    "import numpy as np\n",
    "\n",
    "from scipy.stats import kstest\n",
    "\n",
    "kstest\n",
    "\n",
    "distributions = []\n",
    "\n",
    "for _ in range(100):\n",
    "    tmp_dist =[kstest(np.concatenate((np.random.normal(0, 1, 10), [5, 1, 3, 1, 2])), \"norm\")[1],\n",
    "                kstest(np.concatenate((np.random.normal(0, 1, 100), [5, 1, 3, 1, 2])), \"norm\")[1],\n",
    "                kstest(np.concatenate((np.random.normal(0, 1, 1000), [5, 1, 3, 1, 2])), \"norm\")[1],\n",
    "                kstest(np.concatenate((np.random.normal(0, 1, 5000), [5, 1, 3, 1, 2])), \"norm\")[1],\n",
    "                kstest(np.concatenate((np.random.normal(0, 1, 20000), [5, 1, 3, 1, 2])), \"norm\")[1]]\n",
    "    distributions.append(tmp_dist)\n",
    "\n",
    "df = pd.DataFrame(distributions, columns = ['n10','n100','n1000', 'n5000', 'n20000'])\n",
    "\n",
    "df[df > 0.05].count()/100"
   ]
  },
  {
   "cell_type": "code",
   "execution_count": 36,
   "metadata": {},
   "outputs": [
    {
     "data": {
      "text/plain": [
       "n10       0.0\n",
       "n100      0.0\n",
       "n1000     0.0\n",
       "n5000     0.0\n",
       "n20000    0.0\n",
       "dtype: float64"
      ]
     },
     "execution_count": 36,
     "metadata": {},
     "output_type": "execute_result"
    }
   ],
   "source": [
    "import pandas as pd\n",
    "import numpy as np\n",
    "\n",
    "from scipy.stats import kstest\n",
    "\n",
    "kstest\n",
    "\n",
    "distributions = []\n",
    "\n",
    "for _ in range(100):\n",
    "    tmp_dist =[kstest(np.random.exponential(scale=1/lam, size=10), \"norm\")[1],\n",
    "                kstest(np.random.exponential(scale=1/lam, size=100), \"norm\")[1],\n",
    "                kstest(np.random.exponential(scale=1/lam, size=1000), \"norm\")[1],\n",
    "                kstest(np.random.exponential(scale=1/lam, size=5000), \"norm\")[1],\n",
    "                kstest(np.random.exponential(scale=1/lam, size=20000), \"norm\")[1]]\n",
    "    distributions.append(tmp_dist)\n",
    "\n",
    "df = pd.DataFrame(distributions, columns = ['n10','n100','n1000', 'n5000', 'n20000'])\n",
    "\n",
    "df[df > 0.05].count()/100"
   ]
  }
 ],
 "metadata": {
  "kernelspec": {
   "display_name": "analytics",
   "language": "python",
   "name": "python3"
  },
  "language_info": {
   "codemirror_mode": {
    "name": "ipython",
    "version": 3
   },
   "file_extension": ".py",
   "mimetype": "text/x-python",
   "name": "python",
   "nbconvert_exporter": "python",
   "pygments_lexer": "ipython3",
   "version": "3.8.16"
  },
  "orig_nbformat": 4
 },
 "nbformat": 4,
 "nbformat_minor": 2
}
